{
 "cells": [
  {
   "cell_type": "markdown",
   "metadata": {},
   "source": [
    "# 00. A Quick Tour of The Notebook"
   ]
  },
  {
   "cell_type": "markdown",
   "metadata": {},
   "source": [
    "## Welcome to the Jupyter Notebook!\n",
    "\n",
    "If you're reading this properly, then you've installed Anaconda correctly. You are looking at a _Jupyter notebook_, which is a user-friendly combination of code and text that helps you perform data analysis and visualization easily!\n",
    "\n",
    "## Introducing The Notebook\n",
    "A Jupyter notebook consists of text and images. The text can be [Markdown](https://www.markdownguide.org/getting-started) or code.\n",
    "\n",
    "You can include images as a weblink: \n",
    "\n",
    "![claridge-chang-lab-logo](http://www.claridgechang.net/uploads/2/4/9/8/24985510/1470031235.png) \n",
    "\n",
    "If you're not connected to the internet, the image above won't render.\n",
    "\n",
    "<!--You can also insert local images from your hard drive: \n",
    "<img src=\"img/drosophila.jpg\" alt=\"Drosophila\" width=\"50%\"/>\n",
    "This image should always render.-->"
   ]
  },
  {
   "cell_type": "markdown",
   "metadata": {},
   "source": [
    "Double-click on this chunk of text. You should enter \"edit mode\" which allows you to change the text.\n",
    "\n",
    "Hit `Shift-Enter` to render the change."
   ]
  },
  {
   "cell_type": "markdown",
   "metadata": {},
   "source": [
    "## Running Cells"
   ]
  },
  {
   "cell_type": "markdown",
   "metadata": {},
   "source": [
    "First, we need to explain how to run cells. Try to run the cell below!\n",
    "\n",
    "Notice how the cell bracket on the left first becomes an asterisk \"*\" to indicate the cell is running.\n",
    "\n",
    "Once the cell has completed running, the asterisk is replaced by a number (in this case, \"1\"). This is a running count of the number of cells you have run in this notebook."
   ]
  },
  {
   "cell_type": "code",
   "execution_count": 1,
   "metadata": {
    "jupyter": {
     "outputs_hidden": false
    }
   },
   "outputs": [
    {
     "name": "stdout",
     "output_type": "stream",
     "text": [
      "Hi! This is a cell. Press the ▶ button in the toolbar above to run it.\n"
     ]
    }
   ],
   "source": [
    "import pandas as pd # Don't worry about this line yet. We'll explain it later below!\n",
    "\n",
    "print(\"Hi! This is a cell. Press the ▶ button in the toolbar above to run it.\")"
   ]
  },
  {
   "cell_type": "markdown",
   "metadata": {
    "tags": []
   },
   "source": [
    "You can also run a cell with Shift+Enter.\n",
    "\n",
    "One of the most useful things about IPython notebook is its tab completion. \n",
    "\n",
    "Try this: click just after `read_csv(` in the cell below and press Shift+Tab."
   ]
  },
  {
   "cell_type": "code",
   "execution_count": null,
   "metadata": {
    "jupyter": {
     "outputs_hidden": false
    }
   },
   "outputs": [],
   "source": [
    "pd.read_csv("
   ]
  },
  {
   "cell_type": "markdown",
   "metadata": {},
   "source": [
    "You should see this:\n",
    "![Using Shift-Tab to get documentation](https://i.imgur.com/I84ORMp.png)\n",
    "\n",
    "<!--\n",
    "<div align=\"center\">\n",
    "<img src=\"img/tab-once.png\" width=\"75%\">\n",
    "</div>\n",
    "-->\n",
    "\n",
    "This is the *documentation* for the function `pd.read_csv()`. You should be able to scroll within the box.\n",
    "\n",
    "You can also perform tab completion for function names. \n",
    "\n",
    "Click just after `pd.r` in the cell below and press Tab."
   ]
  },
  {
   "cell_type": "code",
   "execution_count": null,
   "metadata": {
    "jupyter": {
     "outputs_hidden": false
    }
   },
   "outputs": [],
   "source": [
    "pd."
   ]
  },
  {
   "cell_type": "markdown",
   "metadata": {},
   "source": [
    "You should see this:\n",
    "\n",
    "![Using Tab completion](https://i.imgur.com/6jrauoK.png)\n",
    "\n",
    "<!--\n",
    "<div align=\"center\">\n",
    "<img src=\"img/function-completion.png\" width=\"30%\">\n",
    "</div>\n",
    "-->"
   ]
  },
  {
   "cell_type": "markdown",
   "metadata": {},
   "source": [
    "## Saving Your Work\n",
    "\n",
    "As of the latest stable version, JupyterLab will autosave your notebook! But you should always click the 💾 button or hit Ctrl+S regularly."
   ]
  },
  {
   "cell_type": "markdown",
   "metadata": {},
   "source": [
    "## Introducing Python"
   ]
  },
  {
   "cell_type": "code",
   "execution_count": 2,
   "metadata": {},
   "outputs": [
    {
     "name": "stdout",
     "output_type": "stream",
     "text": [
      "11\n",
      "30\n"
     ]
    }
   ],
   "source": [
    "# This is a code cell. You can change the cell type in the dropdown menu above.\n",
    "# In Python, anything following a `#` is a comment; it is ignored. \n",
    "# Below, we demonstrate a simple addition of two variables.\n",
    "\n",
    "a = 5\n",
    "b = 6\n",
    "print(a + b)\n",
    "print(a * b)"
   ]
  },
  {
   "cell_type": "markdown",
   "metadata": {},
   "source": [
    "Try changing the values of `a` and `b`, and hit `Shift-Enter` or the Play button <img src=\"img/press-play.png\" alt=\"Press Play!\" width=\"25px\"/> above.\n",
    "\n",
    "Check to see if the values of `a + b` and `a * b` are as expected.\n",
    "\n",
    " **Congratulations!**  🎉 🎊 \n",
    " \n",
    "You are now officially a programmer!!!\n",
    "\n",
    "One of the key advantages of learning coding is the ability to automate tasks with loops."
   ]
  },
  {
   "cell_type": "code",
   "execution_count": 3,
   "metadata": {
    "jupyter": {
     "outputs_hidden": false
    }
   },
   "outputs": [
    {
     "name": "stdout",
     "output_type": "stream",
     "text": [
      "0 0 0\n",
      "1 2 3\n",
      "2 4 6\n",
      "3 6 9\n",
      "4 8 12\n",
      "5 10 15\n",
      "6 12 18\n",
      "7 14 21\n",
      "8 16 24\n",
      "9 18 27\n"
     ]
    }
   ],
   "source": [
    "for i in range(10):\n",
    "    print(i, i*2, i*3)"
   ]
  },
  {
   "cell_type": "markdown",
   "metadata": {},
   "source": [
    "## Quick Introduction to Arrays\n",
    "\n",
    "Python has several different types of [data structures](https://en.wikipedia.org/wiki/Data_structure). An important data structure is the **list**."
   ]
  },
  {
   "cell_type": "code",
   "execution_count": null,
   "metadata": {},
   "outputs": [],
   "source": [
    "my_list = [1, 2, 3, 4, \"John\", \"Mary\", 1984]"
   ]
  },
  {
   "cell_type": "markdown",
   "metadata": {},
   "source": [
    "You can access items of this list with using a 0-indexed notation. That is, the first item has an index of 0."
   ]
  },
  {
   "cell_type": "code",
   "execution_count": null,
   "metadata": {},
   "outputs": [],
   "source": [
    "my_list[0]"
   ]
  },
  {
   "cell_type": "code",
   "execution_count": null,
   "metadata": {},
   "outputs": [],
   "source": [
    "my_list[1]"
   ]
  },
  {
   "cell_type": "markdown",
   "metadata": {},
   "source": [
    "Python allows negative-numerical indexing, which accesses the list in reverse."
   ]
  },
  {
   "cell_type": "code",
   "execution_count": null,
   "metadata": {},
   "outputs": [],
   "source": [
    "my_list[-1]"
   ]
  },
  {
   "cell_type": "code",
   "execution_count": null,
   "metadata": {},
   "outputs": [],
   "source": [
    "my_list[-2] "
   ]
  },
  {
   "cell_type": "markdown",
   "metadata": {},
   "source": [
    "You can append items to the list."
   ]
  },
  {
   "cell_type": "code",
   "execution_count": null,
   "metadata": {},
   "outputs": [],
   "source": [
    "my_list.append(\"new item\")\n",
    "\n",
    "my_list"
   ]
  },
  {
   "cell_type": "markdown",
   "metadata": {},
   "source": [
    "You can also remove items from the list."
   ]
  },
  {
   "cell_type": "code",
   "execution_count": null,
   "metadata": {},
   "outputs": [],
   "source": [
    "my_list.remove(4)\n",
    "\n",
    "my_list.remove(\"John\")\n",
    "\n",
    "my_list"
   ]
  },
  {
   "cell_type": "markdown",
   "metadata": {},
   "source": [
    "You can also combine lists."
   ]
  },
  {
   "cell_type": "code",
   "execution_count": null,
   "metadata": {},
   "outputs": [],
   "source": [
    "[1, 2, 3] + [\"Four\", \"cinco\", \"六\"]"
   ]
  },
  {
   "cell_type": "markdown",
   "metadata": {},
   "source": [
    "## Quick Introduction to Dictionaries\n",
    "\n",
    "Another important data structure is the **dictionary**. It is often referred to as a `dict`. As the name suggests, you can look up values with keywords."
   ]
  },
  {
   "cell_type": "code",
   "execution_count": null,
   "metadata": {},
   "outputs": [],
   "source": [
    "my_dict = {\"John\": 99,\n",
    "           \"Mary\": 100,\n",
    "           \"Address\": \"8 College Road, S(169857)\",\n",
    "           \"Fragments\": [\"attagagacca\", \"ggctttcta\", \"ttctcaatggt\"]}"
   ]
  },
  {
   "cell_type": "code",
   "execution_count": null,
   "metadata": {},
   "outputs": [],
   "source": [
    "my_dict[\"John\"]"
   ]
  },
  {
   "cell_type": "code",
   "execution_count": null,
   "metadata": {},
   "outputs": [],
   "source": [
    "my_dict[\"Address\"]"
   ]
  },
  {
   "cell_type": "code",
   "execution_count": null,
   "metadata": {},
   "outputs": [],
   "source": [
    "my_dict[\"Fragments\"]"
   ]
  },
  {
   "cell_type": "markdown",
   "metadata": {},
   "source": [
    "You can add values to a list by assigning it to a keyword."
   ]
  },
  {
   "cell_type": "code",
   "execution_count": null,
   "metadata": {},
   "outputs": [],
   "source": [
    "my_dict[\"Susan\"] = 1000\n",
    "\n",
    "my_dict"
   ]
  },
  {
   "cell_type": "markdown",
   "metadata": {},
   "source": [
    "Removing dictionary entries with the `del` command."
   ]
  },
  {
   "cell_type": "code",
   "execution_count": null,
   "metadata": {},
   "outputs": [],
   "source": [
    "del my_dict[\"John\"]\n",
    "\n",
    "my_dict"
   ]
  },
  {
   "cell_type": "markdown",
   "metadata": {},
   "source": [
    "### _Quiz_\n",
    "\n",
    "How do I remove 'ggctttcta' from `my_dict[\"Fragments\"]`?"
   ]
  },
  {
   "cell_type": "markdown",
   "metadata": {},
   "source": [
    "## Importing Libraries\n",
    "\n",
    "Python has a large selection of libraries for scientific computing and data visualization. These libraries have to be manually imported into your session."
   ]
  },
  {
   "cell_type": "code",
   "execution_count": null,
   "metadata": {},
   "outputs": [],
   "source": [
    "import pandas as pd\n",
    "# This translates into English as 'Hey Python, load the library `pandas`, and call it `pd` for short!'\n",
    "\n",
    "import matplotlib.pyplot as plt\n",
    "# In English: 'Python, there's a submodule `pyplot` in the library `matplotlib`. Import this submodule as `plt`.\n",
    "\n",
    "## If you are using JupyterLite, you need to run:\n",
    "import piplite\n",
    "await piplite.install('seaborn')\n",
    "\n",
    "\n",
    "import seaborn as sns\n",
    "# Now, can you translate this line of Python into English?\n",
    "\n",
    "%matplotlib inline\n",
    "# This is known as a \"magic command\". It's meant to control how the notebook behaves. \n",
    "# This particular line tells the notebook to render any output by `matplotlib` as an inline image. "
   ]
  },
  {
   "cell_type": "markdown",
   "metadata": {},
   "source": [
    "## Further Reading\n",
    "Read more about the [JupyterLab interface](http://jupyterlab.readthedocs.io/en/stable/user/interface.html).\n",
    "\n",
    "More about [magic commands](http://ipython.readthedocs.io/en/stable/interactive/tutorial.html#magics-explained) in Jupyter.\n",
    "\n",
    "Why is this named \"Jupyter\"?\n",
    "\n",
    "From this [link](https://github.com/jupyter/design/wiki/Jupyter-Logo#what-is-project-jupyter):\n",
    "\n",
    "> The name has its origins in a few different places. First, the names comes from the planet Jupiter. We wanted to pick a name that evoked the traditions and ideas of science. Second, the core programming languages supported by Jupyter are Julia, Python and R. While the name Jupyter is not a direct acronym for these languages, it nods its head in those directions. In particular, the \"y\" in the middle of Jupyter was chosen to honor our Python heritage. Third, Galileo was the first person to discover the moons of Jupiter. His publication on the moons of Jupiter is an early example of research that includes the underlying data in the publication. This is one of the core ideas and requirements for scientific reproducibility. Reproducibility is one of the main focuses of our project. \n",
    "\n",
    "<img src=\"https://upload.wikimedia.org/wikipedia/commons/c/ca/Medicean_Stars.png\" alt=\"Moons of Jupyter\" width=\"600px\"/>\n"
   ]
  }
 ],
 "metadata": {
  "kernelspec": {
   "display_name": "Python 3 (ipykernel)",
   "language": "python",
   "name": "python3"
  },
  "language_info": {
   "codemirror_mode": {
    "name": "ipython",
    "version": 3
   },
   "file_extension": ".py",
   "mimetype": "text/x-python",
   "name": "python",
   "nbconvert_exporter": "python",
   "pygments_lexer": "ipython3",
   "version": "3.9.7"
  }
 },
 "nbformat": 4,
 "nbformat_minor": 4
}
