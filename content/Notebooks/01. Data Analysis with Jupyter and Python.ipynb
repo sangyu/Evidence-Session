{
 "cells": [
  {
   "cell_type": "markdown",
   "metadata": {},
   "source": [
    "# 01. Data Analysis with Jupyter and Python\n",
    "\n",
    "By Adam Claridge-Chang, Joses Ho and Sangyu Xu"
   ]
  },
  {
   "cell_type": "markdown",
   "metadata": {},
   "source": [
    "## Load Libraries"
   ]
  },
  {
   "cell_type": "code",
   "execution_count": null,
   "metadata": {
    "ExecuteTime": {
     "end_time": "2016-10-24T12:32:08.662325",
     "start_time": "2016-10-24T12:32:08.611056"
    }
   },
   "outputs": [],
   "source": [
    "\n",
    "import piplite\n",
    "await piplite.install('seaborn')\n",
    "\n",
    "import seaborn as sns\n",
    "import pandas as pd\n",
    "import numpy as np\n",
    "%matplotlib inline"
   ]
  },
  {
   "cell_type": "code",
   "execution_count": null,
   "metadata": {},
   "outputs": [],
   "source": [
    "# plot settings\n",
    "sns.set(style='ticks', font_scale=1.2)"
   ]
  },
  {
   "cell_type": "code",
   "execution_count": null,
   "metadata": {},
   "outputs": [],
   "source": [
    "exploration_times = pd.read_csv(\"../data/exploration_times.csv\")"
   ]
  },
  {
   "cell_type": "code",
   "execution_count": null,
   "metadata": {},
   "outputs": [],
   "source": [
    "exploration_times"
   ]
  },
  {
   "cell_type": "markdown",
   "metadata": {},
   "source": [
    "## Loading data\n",
    "\n",
    "Let's load in an example dataset. We shall load the [iris flower dataset](https://en.wikipedia.org/wiki/Iris_flower_data_set).\n",
    "\n",
    ">The Iris flower data set or Fisher's Iris data set is a multivariate data set introduced by the British statistician and biologist [Ronald Fisher](https://en.wikipedia.org/wiki/Ronald_Fisher) in 1936. It is sometimes called Anderson's Iris data set because [Edgar Anderson](https://en.wikipedia.org/wiki/Edgar_Anderson) collected the data to quantify the morphologic variation of Iris flowers of three related species. Two of the three species were collected in the Gaspé Peninsula \"all from the same pasture, and picked on the same day and measured at the same time by the same person with the same apparatus\".\n",
    "\n",
    "\n",
    "\n",
    "<div align=\"center\">\n",
    "<img src=\"https://sangyusblog.files.wordpress.com/2022/10/gaspe.jpg?w=804\" width=\"75%\">\n",
    "</div>\n",
    "\n",
    ">The data set consists of 50 samples from each of three species of Iris (*iris setosa*, *iris virginica* and *iris versicolor*). Four features were measured from each sample: the length and the width of the sepals and petals, in centimeters.\n",
    "\n",
    "<div align=\"center\">\n",
    "<img src=\"https://ars.els-cdn.com/content/image/3-s2.0-B9780128147610000034-f03-01-9780128147610.jpg\" alt=\"versicolor\" style=\"width:70%\">\n",
    "<figcaption>An iris versicolor. (Photo by Danielle Langlois. Marking by Vijay Kotu and Bala Deshpande. Licensed under Creative Commons)</figcaption>\n",
    "</div>\n",
    "<div align=\"center\">\n",
    "<img src=\"https://upload.wikimedia.org/wikipedia/commons/a/a7/Irissetosa1.jpg\" alt=\"setosa\" style=\"width:70%\">\n",
    "<figcaption>An iris setosa. (Photo by Денис Анисимов. Public Domain)</figcaption>\n",
    "</div>\n",
    "<div align=\"center\">\n",
    "<img src=\"https://upload.wikimedia.org/wikipedia/commons/f/f8/Iris_virginica_2.jpg\" alt=\"virginica\" style=\"width:70%\">\n",
    "<figcaption>An iris virginica. (Photo by Eric Hunt. Licensed under Creative Commons)</figcaption>\n",
    "</div>\n",
    "\n",
    "\n",
    "\n"
   ]
  },
  {
   "cell_type": "code",
   "execution_count": null,
   "metadata": {
    "ExecuteTime": {
     "end_time": "2016-10-24T12:29:05.071566",
     "start_time": "2016-10-24T12:28:57.852872"
    },
    "scrolled": true
   },
   "outputs": [],
   "source": [
    "# Read iris data from the sheet with pandas\n",
    "iris = pd.read_csv(\"../data/iris.csv\")\n",
    "\n",
    "## If you're using Windows, you need to use:\n",
    "# iris = pd.read_csv('C://Users//whho//Downloads//IrisData - iris.csv')"
   ]
  },
  {
   "cell_type": "markdown",
   "metadata": {},
   "source": [
    "You have created a new object known as a pandas `DataFrame`, with the contents of the CSV. Think of it as a spreadsheet, but with a lot more useful features for data analysis.\n",
    "It has several methods we can use to handle, analyse, and plot the data.\n",
    "\n",
    "We can peak at the data using the `.head()` method."
   ]
  },
  {
   "cell_type": "code",
   "execution_count": null,
   "metadata": {},
   "outputs": [],
   "source": [
    "iris.head() # Gives us the first 5 rows of the dataframe.\n",
    "# iris.head(10) # Gives us the first 5 rows of the dataframe.\n",
    "\n",
    "\n"
   ]
  },
  {
   "cell_type": "markdown",
   "metadata": {},
   "source": [
    "Get a summary of the data."
   ]
  },
  {
   "cell_type": "code",
   "execution_count": null,
   "metadata": {},
   "outputs": [],
   "source": [
    "iris.describe()"
   ]
  },
  {
   "cell_type": "markdown",
   "metadata": {},
   "source": [
    "Let's see what is in the `species` column."
   ]
  },
  {
   "cell_type": "code",
   "execution_count": null,
   "metadata": {},
   "outputs": [],
   "source": [
    "iris.species.unique()"
   ]
  },
  {
   "cell_type": "markdown",
   "metadata": {},
   "source": [
    "## Plot the old-fashioned bar chart"
   ]
  },
  {
   "cell_type": "code",
   "execution_count": null,
   "metadata": {},
   "outputs": [],
   "source": [
    "iris.head()"
   ]
  },
  {
   "cell_type": "code",
   "execution_count": null,
   "metadata": {
    "ExecuteTime": {
     "end_time": "2016-10-24T12:31:20.112741",
     "start_time": "2016-10-24T12:31:19.668820"
    }
   },
   "outputs": [],
   "source": [
    "ax1 = sns.barplot(data = iris, \n",
    "                  x = 'species', \n",
    "                  y = 'petal_width')\n",
    "\n",
    "# Axes should always be labelled.\n",
    "# ax1.set(xlabel='Species', ylabel='Mean Sepal length (cm)')"
   ]
  },
  {
   "cell_type": "markdown",
   "metadata": {},
   "source": [
    "## Plot a swarmplot, which shows all the data"
   ]
  },
  {
   "cell_type": "code",
   "execution_count": null,
   "metadata": {
    "ExecuteTime": {
     "end_time": "2016-10-24T12:30:06.912476",
     "start_time": "2016-10-24T12:30:06.003738"
    }
   },
   "outputs": [],
   "source": [
    "ax2 = sns.swarmplot(data = iris, \n",
    "                    x = 'species', \n",
    "                    y = 'petal_length',\n",
    "                   hue = 'species')\n",
    "\n",
    "# ax2.set(xlabel='Species', ylabel='Petal length (cm)')"
   ]
  },
  {
   "cell_type": "markdown",
   "metadata": {},
   "source": [
    "## The split-apply-combine workflow"
   ]
  },
  {
   "cell_type": "markdown",
   "metadata": {},
   "source": [
    "All your scientific experiments follow a very simple analysis workflow: *split-apply-combine*\n",
    "\n",
    "You do an experiment on 2 or more groups, apply some summary function to each group, and then aggregate the results.\n",
    "\n",
    "<div align=\"center\">\n",
    "<img src=\"../images/for_ipynb/split-apply-combine.jpg\" width=\"75%\">\n",
    "</div>\n"
   ]
  },
  {
   "cell_type": "code",
   "execution_count": null,
   "metadata": {},
   "outputs": [],
   "source": [
    "iris.head()"
   ]
  },
  {
   "cell_type": "code",
   "execution_count": null,
   "metadata": {},
   "outputs": [],
   "source": [
    "iris.groupby('species').mean()"
   ]
  },
  {
   "cell_type": "code",
   "execution_count": null,
   "metadata": {},
   "outputs": [],
   "source": [
    "iris.groupby('species').sem()"
   ]
  },
  {
   "cell_type": "markdown",
   "metadata": {},
   "source": [
    "The plotting package `seaborn` does this automatically for you."
   ]
  },
  {
   "cell_type": "code",
   "execution_count": null,
   "metadata": {
    "tags": []
   },
   "outputs": [],
   "source": [
    "# `catplot` is short for \"categorical plot\", \n",
    "# where either the x-axis or y-axis consists of categories.\n",
    "\n",
    "ax3 = sns.catplot(data=iris, \n",
    "            kind='bar',   # there are several types of plots.\n",
    "            errorbar='sd',      # plot the error bars as ± standard deviations.\n",
    "            col='species' # plot each species as its own column.\n",
    "           )\n",
    "ax3.set_axis_labels(\"\", \"Length (cm)\")\n"
   ]
  },
  {
   "cell_type": "markdown",
   "metadata": {},
   "source": [
    "You should quickly notice that the plot isn't as informative as we want it to be.\n",
    "\n",
    "The current plot only allows us to investigate the relationships the four metrics within species.\n",
    "\n",
    "Ideally, we want to directly compare metrics between species. \n",
    "\n",
    "To do so, we need to _reshape_ the data."
   ]
  },
  {
   "cell_type": "markdown",
   "metadata": {},
   "source": [
    "## The Long-form vs the Wide-form of your data\n",
    "\n",
    "Our iris dataframe is in the wide-form (below right) and we want to turn it into the long-form. In the original iris dataframe, the data is organised by unit (flower, in rows) and the columns contain a mixtrue of variables (sepal length, sepal width etc). In a long-form dataframe, each columne is a variable, and each row is an observation. (Please read Hadley Wickham's https://vita.had.co.nz/papers/tidy-data.pdf to learn more about tidiness of datasets.) \n",
    "<div align=\"center\">\n",
    "<img src=\"https://seaborn.pydata.org/_images/data_structure_19_0.png\" width=\"75%\">\n",
    "<figcaption>Michael Waskom, Seaborn Tutorial 2022</figcaption>\n",
    "\n",
    "</div>\n"
   ]
  },
  {
   "cell_type": "code",
   "execution_count": null,
   "metadata": {},
   "outputs": [],
   "source": [
    "iris_tidy = pd.melt(iris.reset_index(), \n",
    "                    id_vars=['index','species'], \n",
    "                    var_name='metric', \n",
    "                    value_name='cm')\n",
    "iris_tidy = iris_tidy.rename(columns = {'index': 'ID'})"
   ]
  },
  {
   "cell_type": "code",
   "execution_count": null,
   "metadata": {},
   "outputs": [],
   "source": [
    "iris"
   ]
  },
  {
   "cell_type": "code",
   "execution_count": null,
   "metadata": {},
   "outputs": [],
   "source": [
    "iris_tidy"
   ]
  },
  {
   "cell_type": "code",
   "execution_count": null,
   "metadata": {},
   "outputs": [],
   "source": [
    "ax4 = sns.catplot(data=iris_tidy, \n",
    "            x='metric', \n",
    "            y='cm', \n",
    "            hue='species',\n",
    "            kind='bar', \n",
    "            errorbar='sd',\n",
    "            aspect=1.5\n",
    "           )"
   ]
  },
  {
   "cell_type": "code",
   "execution_count": null,
   "metadata": {},
   "outputs": [],
   "source": [
    "import matplotlib.pyplot as plt"
   ]
  },
  {
   "cell_type": "code",
   "execution_count": null,
   "metadata": {},
   "outputs": [],
   "source": [
    "# f, ax = plt.subplots(1, figsize=(3,3))\n",
    "\n",
    "ax5 = sns.catplot(data=iris_tidy, \n",
    "            kind='swarm', \n",
    "             x='species', y='cm', hue='metric',\n",
    "            size=4.5,\n",
    "            aspect=1.5,\n",
    "            #ci='sd',\n",
    "            palette=['red','grey','orange','pink'],\n",
    "            \n",
    "           )"
   ]
  },
  {
   "cell_type": "markdown",
   "metadata": {},
   "source": [
    "## Scatterplot and linear regression line\n",
    "\n",
    "Next to the categorical plot, the scatter plot is a very useful visualization tool for biological experiments. Often we want to know how one variable is correlated with another, we can then use a scatterplot to easily take a quick look."
   ]
  },
  {
   "cell_type": "code",
   "execution_count": null,
   "metadata": {},
   "outputs": [],
   "source": [
    "# Draw a scatteplot of petal width versus length with a simple linear regression line\n",
    "ax6 = sns.regplot(data=iris, \n",
    "                  ci=95,\n",
    "                  x=\"sepal_width\", \n",
    "                  y=\"petal_length\")\n",
    "\n",
    "\n",
    "# ax6.set(xlabel='Sepal width (cm)', ylabel='Sepal length (cm)')\n"
   ]
  },
  {
   "cell_type": "code",
   "execution_count": null,
   "metadata": {},
   "outputs": [],
   "source": [
    "\n",
    "for s in iris.species.unique():\n",
    "    ax7 = sns.regplot(data=iris.loc[iris.species == s], \n",
    "                  ci=95,\n",
    "                  x=\"sepal_width\", \n",
    "                  y=\"petal_length\", label = s)\n",
    "    ax7.legend()\n"
   ]
  },
  {
   "cell_type": "markdown",
   "metadata": {},
   "source": [
    "## Seaborn allows you to do that more systematically with pairplot\n",
    "\n",
    "This is like doing a scatter plot for each pair of the variables in one go. On the diagonal, distributions of values within each species group are plotted for each variable.  \n",
    "\n"
   ]
  },
  {
   "cell_type": "code",
   "execution_count": null,
   "metadata": {},
   "outputs": [],
   "source": [
    "fig = sns.pairplot(iris, hue=\"species\")"
   ]
  },
  {
   "cell_type": "markdown",
   "metadata": {},
   "source": [
    "## Dimension Reduction with Principle Component Analysis\n",
    "We have 4 dimensions we measured the irises on, what if we want a more concise way of describing the data? We can try to find 2 dimensions along which the data has the most variance. "
   ]
  },
  {
   "cell_type": "code",
   "execution_count": null,
   "metadata": {},
   "outputs": [],
   "source": [
    "from sklearn import decomposition\n",
    "from sklearn import datasets\n",
    "\n",
    "\n",
    "iris_pca = datasets.load_iris()\n",
    "X = iris_pca.data\n",
    "y = iris_pca.target\n",
    "\n",
    "pca = decomposition.PCA(n_components=2)\n",
    "pca.fit(X)\n",
    "X = pca.transform(X)\n",
    "\n",
    "\n",
    "f, ax8 = plt.subplots(1, figsize = (5, 5))\n",
    "sns.scatterplot(x=X[:, 0], y=X[:, 1], hue=[iris_pca.target_names[i] for i in y], alpha = 0.7)\n",
    "ax8.set_xlabel('PC1')\n",
    "ax8.set_ylabel('PC2')\n",
    "\n",
    "\n"
   ]
  },
  {
   "cell_type": "code",
   "execution_count": null,
   "metadata": {},
   "outputs": [],
   "source": [
    "f, ax9 = plt.subplots(2, 2, figsize = (12, 11))\n",
    "titles = ['sepal length', 'sepal width', 'petal length', 'petal width']\n",
    "\n",
    "for i in range(0, 4):\n",
    "    sns.scatterplot(x=X[:, 0], y=X[:, 1], hue=iris_pca.data[:, i], alpha = 0.7, ax = ax9.flatten()[i])\n",
    "    ax9.flatten()[i].set_xlabel('PC1')\n",
    "    ax9.flatten()[i].set_ylabel('PC2')\n",
    "    ax9.flatten()[i].set_xlim(-4, 8)\n",
    "#     ax9.flatten()[i].set_title(titles[i])\n",
    "# f.suptitle('Colored by Original Measurements')"
   ]
  },
  {
   "cell_type": "markdown",
   "metadata": {},
   "source": [
    "## Towards Publication-Ready Plots\n",
    "Try to achieve as much of the final figure requirements as possible via code"
   ]
  },
  {
   "cell_type": "code",
   "execution_count": null,
   "metadata": {},
   "outputs": [],
   "source": [
    "all_metrics = iris_tidy.metric.unique()\n",
    "\n",
    "all_metrics\n"
   ]
  },
  {
   "cell_type": "code",
   "execution_count": null,
   "metadata": {},
   "outputs": [],
   "source": [
    "y_titles = ['sepal length (cm)', 'sepal width (cm)', 'petal length (cm)', 'petal width (cm)']\n",
    "letters = ['A', 'B', 'C', 'D']"
   ]
  },
  {
   "cell_type": "code",
   "execution_count": null,
   "metadata": {},
   "outputs": [],
   "source": [
    "import matplotlib.pyplot as plt\n",
    "\n",
    "f, ax = plt.subplots(2, 2, figsize=(10, 10))\n",
    "\n",
    "all_axes = ax.flatten()\n",
    "\n",
    "for i, metric in enumerate(all_metrics):\n",
    "    \n",
    "    current_axes = all_axes[i]\n",
    "    \n",
    "    sns.swarmplot(data=iris, size = 3.5, \n",
    "                  x='species', y=metric, hue = 'species',\n",
    "                  ax=current_axes)\n",
    "\n",
    "    current_axes.set(ylabel=y_titles[i])\n",
    "\n",
    "    \n",
    "    current_axes.set_ylim(0, 10)\n",
    "    current_axes.get_ylim \n",
    "    current_axes.get_legend().remove()\n",
    "    current_axes.text(-1, 10.5, letters[i], fontsize = 25, fontweight = 'semibold')\n",
    "\n"
   ]
  },
  {
   "cell_type": "code",
   "execution_count": null,
   "metadata": {},
   "outputs": [],
   "source": [
    "f.savefig(\"myplot.svg\")\n",
    "f.savefig(\"myplot.png\", dpi = 300)\n",
    "\n"
   ]
  },
  {
   "cell_type": "code",
   "execution_count": null,
   "metadata": {},
   "outputs": [],
   "source": []
  }
 ],
 "metadata": {
  "kernelspec": {
   "display_name": "Python 3 (ipykernel)",
   "language": "python",
   "name": "python3"
  },
  "language_info": {
   "codemirror_mode": {
    "name": "ipython",
    "version": 3
   },
   "file_extension": ".py",
   "mimetype": "text/x-python",
   "name": "python",
   "nbconvert_exporter": "python",
   "pygments_lexer": "ipython3",
   "version": "3.9.7"
  }
 },
 "nbformat": 4,
 "nbformat_minor": 4
}
